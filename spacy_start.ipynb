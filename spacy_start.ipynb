{
 "cells": [
  {
   "cell_type": "markdown",
   "metadata": {},
   "source": [
    "* https://spacy.io \n",
    "* https://github.com/astanin/python-tabulate библиотека tabulate для табличного вывода списков\n",
    "* https://github.com/Textualize/rich библиотека Рич для красивишного вывода в консоль с кучей плюшек (есть гайд на русском)  \n",
    "\n",
    "Анализ тональности для русскоязычного текста мы будем проводить с помощью библиотеки для анализа настроений Dostoevsky.  \n",
    "https://egorovegor.ru/analiz-tonalnosti-s-python-i-dostoevsky/ - описание процесса туть  \n",
    "Для использования библиотеки нужно подгрузить модель FastTextSocialNetworkModel и загрузить RegexTokenizer.\n",
    "\n",
    "Вкратце о функционале на русском можно читнуть тут 👇.  \n",
    "Но статья старая, код оттуда лучше не тырить, за 4 года что-то улучшили-переписали-исправили-переделали.  \n",
    "Актуальные примеры всегда на офф.сайте  \n",
    "* https://habr.com/ru/articles/531940/\n",
    "* https://habr.com/ru/articles/504680/\n",
    "\n",
    "Первый блок 👇 - установка библиотек, выполняется один раз, потом закоментить, чтоб постоянно не проверял, установлено ли или не  \n",
    "Кстати, для вставки эмодзей можно нажать \"Вин + Ю\", откроется диалог ✨🎉  \n",
    "\n"
   ]
  },
  {
   "cell_type": "code",
   "execution_count": 1,
   "metadata": {},
   "outputs": [],
   "source": [
    "# %pip install spacy\n",
    "# %pip install tabulate\n",
    "# %pip install rich         # библиотека, позволяющая отображать красивый текст и форматировать терминал"
   ]
  },
  {
   "cell_type": "markdown",
   "metadata": {},
   "source": [
    "Тут подключаем:\n",
    "- всякие спейси-штуки\n",
    "- Табулейт и Рич приблуды\n",
    "- создаем Рич-консольку\n",
    "- создаем объект НЛП для обработки текста\n",
    "\n",
    "Я закомментировал вывод **стоп-слов** (они хранятся в `nlp.Defaults.stop_words`)  \n",
    "Не забываем, что дополнительно надо качнуть модель `python -m spacy download ru_core_news_sm` (https://spacy.io/usage/models)  \n",
    "И примеров (`sentences[0]`) (берем отсюда - `from spacy.lang.ru.examples import sentences`)"
   ]
  },
  {
   "cell_type": "code",
   "execution_count": 2,
   "metadata": {},
   "outputs": [],
   "source": [
    "\n",
    "import spacy\n",
    "from spacy.matcher import Matcher\n",
    "from spacy import displacy\n",
    "from spacy.lang.ru.examples import sentences\n",
    "from spacy.lang.ru import Russian\n",
    "\n",
    "from tabulate import tabulate       # штука для красивого вывода списков в виде таблицы\n",
    "from rich.console import Console    # Для большего контроля над терминалом\n",
    "from rich import inspect            # украсить любой Python объект, например класс, переменную, или функцию.\n",
    "from rich.table import Table        # Рич-таблица\n",
    "\n",
    "console = Console()     # создаем Рич-консоль\n",
    "\n",
    "nlp = spacy.load(\"ru_core_news_md\")\n",
    "# print (nlp.Defaults.stop_words)\n",
    "# print (sentences[10])"
   ]
  },
  {
   "cell_type": "markdown",
   "metadata": {},
   "source": [
    "https://spacy.io/usage/visualizers - визуализация текста"
   ]
  },
  {
   "cell_type": "code",
   "execution_count": null,
   "metadata": {},
   "outputs": [],
   "source": [
    "# загоняем в анализатор текст и получаем объект doc\n",
    "doc = nlp(\n",
    "    \"Машины подобные Буханке скоро сойдут с конвеера. \" \n",
    "    \"Новый автомобиль Лада от фирмы Автоваз поступит в продажу через неделю - заявил генеральный директор Сидоров. Он будет стоить 3 миллиона рублей. \"\n",
    "    \"Тыц тырыц\")\n",
    "\n",
    "# так можно посмотреть, а что внутри объекта doc\n",
    "# inspect(doc, methods=True)  \n",
    "\n",
    "# вывод текста через Рич-консоль\n",
    "console.print (\":pile_of_poo:\")\n",
    "console.print (doc.text)\n",
    "\n",
    "# можно вывести несколько слов как срез\n",
    "# print (doc[0:3])\n",
    "\n",
    "\n",
    "# print (doc[0].text)\n",
    "\n",
    "# первообразная форма слова\n",
    "# print (doc[0].lemma_)\n",
    "\n",
    "# стоп-слово или не\n",
    "# print (doc[0].is_stop)\n",
    "\n",
    "# с помощью дисплейси можно получить картинку с визуализацией текста\n",
    "# displacy.render(doc, style='dep', jupyter=True)\n",
    "\n",
    "# serve - показывает через веб-сервер 127.0.0.1:5000\n",
    "# displacy.serve(doc, style=\"ent\")"
   ]
  },
  {
   "cell_type": "markdown",
   "metadata": {},
   "source": [
    "Выводим список всех слов с помощью tabulate (делает из списка красивую табличку)"
   ]
  },
  {
   "cell_type": "code",
   "execution_count": null,
   "metadata": {},
   "outputs": [],
   "source": [
    "token_table = []\n",
    "for token in doc:\n",
    "    token_table.append ([token.text, token.pos_, token.dep_, token.lemma_])\n",
    "console.print (tabulate(token_table, headers= [\"Текст\", \"Часть речи\", \"Чот еще\", \"Лемма\"]))"
   ]
  },
  {
   "cell_type": "markdown",
   "metadata": {},
   "source": [
    "Тут вывожу список ключевых слов (они хранятся в `doc.ents`) с помощью Ричевской таблицы"
   ]
  },
  {
   "cell_type": "code",
   "execution_count": null,
   "metadata": {},
   "outputs": [],
   "source": [
    "table = Table(header_style=\"bold red\")\n",
    "table.add_column(\"Текст\")\n",
    "table.add_column(\"Label\")\n",
    "table.add_column(\"Пояснение\", justify= \"right\")\n",
    "\n",
    "# Iterate over the predicted entities\n",
    "for ent in doc.ents:\n",
    "\n",
    "    table.add_row(ent.text, ent.label_, spacy.explain(ent.label_))\n",
    "    # print(ent.text, ent.label_, spacy.explain(ent.label_))\n",
    "\n",
    "console.print(table)"
   ]
  },
  {
   "cell_type": "markdown",
   "metadata": {},
   "source": [
    "Пример, как в тексте найти число `token.like_num` и если за ним следует токен-\"ПРОЦЕНТ\" - вывести это число.  \n",
    "У каждого токена есть порядковый номер `token.i`. Соответственно, следующий за ним будет `token.i+1`"
   ]
  },
  {
   "cell_type": "code",
   "execution_count": null,
   "metadata": {},
   "outputs": [],
   "source": [
    "doc1 = nlp (\"Буханки составляют 4% от кол-ва машин \"\n",
    "            \"В нашем салоне 20% машин - Буханки\")\n",
    "print(doc1[8])\n",
    "\n",
    "for token in doc1:\n",
    "    if token.like_num:\n",
    "        nt = doc1[token.i + 1]\n",
    "        if nt.text == \"%\":\n",
    "            print(token)"
   ]
  },
  {
   "cell_type": "markdown",
   "metadata": {},
   "source": [
    "https://spacy.io/usage/rule-based-matching - cоздание списка правил  \n",
    "https://demos.explosion.ai/matcher - можно потестить правила онлайн, но русского там нет 🤷‍♂️"
   ]
  },
  {
   "cell_type": "code",
   "execution_count": null,
   "metadata": {},
   "outputs": [],
   "source": [
    "doc2 = nlp(\"Привет, мир! привет, мир? привет, мир 111\")\n",
    "#врубаем мэтчер, подключая библиотеку\n",
    "matcher = Matcher(nlp.vocab)\n",
    "\n",
    "# Создаем шаблон из 3 токенов\n",
    "pattern = [{\"LOWER\": \"привет\"}, {\"IS_PUNCT\": True}, {\"LOWER\": \"мир\"}]\n",
    "#pattern = [{\"TEXT\": \"iOS\"}, {\"IS_DIGIT\": True}]\n",
    "#pattern = [{\"POS\": \"ADJ\"}, {\"POS\": \"NOUN\"}, {\"POS\": \"NOUN\", \"OP\": \"?\"}]\n",
    "\n",
    "# Добавляем его в мэтчер\n",
    "matcher.add(\"HW\", [pattern])\n",
    "\n",
    "# Применяем к тексту\n",
    "matches = matcher(doc2)\n",
    "console.print (matches)\n",
    "console.print(\"Совпадения:\", [doc2[start:end].text for match_id, start, end in matches])"
   ]
  },
  {
   "cell_type": "markdown",
   "metadata": {},
   "source": [
    "Пример очистки текста от стоп-слов. Это краткая запись, питон позволяет такие фишечки.  \n",
    "Проходим по токенам в doc1 и если этот токен не стоп-слово - добавляем его лемму в список.  \n",
    "В блоке ниже - та же операция, но в более понятном виде."
   ]
  },
  {
   "cell_type": "code",
   "execution_count": 9,
   "metadata": {},
   "outputs": [],
   "source": [
    "clear_text = []\n",
    "\n",
    "clear_text = [token.lemma_ for token in doc1 if not token.is_stop]"
   ]
  },
  {
   "cell_type": "code",
   "execution_count": 10,
   "metadata": {},
   "outputs": [],
   "source": [
    "clear_text = []\n",
    "\n",
    "for token in doc1:\n",
    "    if not token.is_stop:\n",
    "        clear_text.append (token.lemma_)\n"
   ]
  }
 ],
 "metadata": {
  "kernelspec": {
   "display_name": "Python 3",
   "language": "python",
   "name": "python3"
  },
  "language_info": {
   "codemirror_mode": {
    "name": "ipython",
    "version": 3
   },
   "file_extension": ".py",
   "mimetype": "text/x-python",
   "name": "python",
   "nbconvert_exporter": "python",
   "pygments_lexer": "ipython3",
   "version": "3.12.6"
  }
 },
 "nbformat": 4,
 "nbformat_minor": 2
}
